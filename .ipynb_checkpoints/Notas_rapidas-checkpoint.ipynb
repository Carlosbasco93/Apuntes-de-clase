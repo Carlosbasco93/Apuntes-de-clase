{
 "cells": [
  {
   "cell_type": "code",
   "execution_count": null,
   "id": "2ea53ca4",
   "metadata": {},
   "outputs": [],
   "source": [
    "### Configuración soup ###\n",
    "import requests\n",
    "from bs4 import BeautifulSoup\n",
    "\n",
    "## Obtenemos los datos que queremos - Uso ##\n",
    "soup = BeautifulSoup(html, \"html.parser\")\n",
    "soup\n",
    "\n",
    "container = soup.find_all(class_='Box-row d-flex')\n",
    "container\n",
    "\n",
    "container=[f.text for f in container]\n",
    "container\n",
    "\n",
    "### Configuración scraping web ###\n",
    "import pandas as pd\n",
    "import time\n",
    "from selenium.webdriver.chrome.options import Options\n",
    "from webdriver_manager.chrome import ChromeDriverManager\n",
    "from selenium import webdriver\n",
    "from selenium.webdriver.chrome.service import Service\n",
    "from selenium.webdriver.common.keys import Keys\n",
    "from selenium.webdriver.common.by import By\n",
    "from selenium.webdriver.chrome.options import Options\n",
    "#%pip install fake-useragent\n",
    "from fake_useragent import UserAgent\n",
    "\n",
    "usuario=UserAgent().random\n",
    "\n",
    "opciones=Options()\n",
    "\n",
    "opciones.add_experimental_option('excludeSwitches', ['enable-automation'])\n",
    "opciones.add_experimental_option('useAutomationExtension', False)\n",
    "opciones.headless=False    # si True, no aperece la ventana (headless=no visible)\n",
    "opciones.add_argument('--start-maximized')         # comienza maximizado\n",
    "#opciones.add_argument('user-data-dir=selenium')    # mantiene las cookies\n",
    "#opciones.add_extension('driver_folder/adblock.crx')       # adblocker\n",
    "opciones.add_argument('--incognito')\n",
    "\n",
    "driver = \"../../chromedriver/chromedriver.exe\" #remember substitute this for your driver path\n",
    "driver = webdriver.Chrome(service=Service(ChromeDriverManager().install()), options = opciones) #Listo para iniciar\n",
    "\n",
    "###Obtenemos datos de la web que queremos - Uso\n",
    "url = 'URL base o deseada'\n",
    "driver.get(url)\n",
    "container = driver.find_elements(By.CLASS_NAME,'%%%') #En los %s rellenamos según lo que queramos extraer de la web\n",
    "container = [element.text for element in container]   #Para visualizar que traemos de la web\n",
    "\n",
    "##Ejemplo\n",
    "url = 'https://twitter.com/'\n",
    "try:\n",
    "    usuario = input(\"Introduce un usuario de Twitter: \").strip()\n",
    "    driver.get(url+usuario)\n",
    "    time.sleep(2)\n",
    "    container = driver.find_elements(By.CLASS_NAME,'css-901oao.css-1hf3ou5.r-14j79pv.r-37j5jr.r-n6v787.r-16dba41.r-1cwl3u0.r-bcqeeo.r-qvutc0')\n",
    "    container = [element.text for element in container][0]\n",
    "    print(container)\n",
    "except:\n",
    "    print('Algo salió mal')\n",
    "\n"
   ]
  },
  {
   "cell_type": "code",
   "execution_count": null,
   "id": "6aeaf2b6",
   "metadata": {},
   "outputs": [],
   "source": [
    "###Para mostrar imágenes en el jupyter-notebook    \n",
    "from IPython.display import Image\n",
    "for image in container:\n",
    "    display(Image(url=image))"
   ]
  },
  {
   "cell_type": "code",
   "execution_count": null,
   "id": "ad443396",
   "metadata": {},
   "outputs": [],
   "source": [
    "#Funcion genérica asíncrona. Funcion tiene que ser estilo map, para aplicar a un solo elemento\n",
    "def asincrono(funcion):\n",
    "    \n",
    "    def eventos(*args, **kwargs):\n",
    "        return asyncio.get_event_loop().run_in_executor(None, funcion, *args, **kwargs)\n",
    "    \n",
    "    return eventos"
   ]
  },
  {
   "cell_type": "code",
   "execution_count": null,
   "id": "e32e3a48",
   "metadata": {},
   "outputs": [],
   "source": [
    "###Para agrupar una lista dada a una lista de listas agrupando los elementos en num_agrup número de subelementos\n",
    "data = [X,X,X,X,X] #Lista que quieres agrupar\n",
    "res = []\n",
    "aux = []\n",
    "num_agrup = 13 #Modificable - Nº de elementos que quieres por grupo\n",
    "for ind, i in enumerate(data): \n",
    "    aux.append(i)\n",
    "    if len(aux)==num_agrup:\n",
    "        res.append(aux)\n",
    "        aux = []\n",
    "    #elif len(data)-ind<num_agrup: #Apila el resto de elementos si no son suficientes para formar un grupo\n",
    "    #    res.append(i)\n",
    "res"
   ]
  }
 ],
 "metadata": {
  "kernelspec": {
   "display_name": "Python 3 (ipykernel)",
   "language": "python",
   "name": "python3"
  },
  "language_info": {
   "codemirror_mode": {
    "name": "ipython",
    "version": 3
   },
   "file_extension": ".py",
   "mimetype": "text/x-python",
   "name": "python",
   "nbconvert_exporter": "python",
   "pygments_lexer": "ipython3",
   "version": "3.9.12"
  }
 },
 "nbformat": 4,
 "nbformat_minor": 5
}
