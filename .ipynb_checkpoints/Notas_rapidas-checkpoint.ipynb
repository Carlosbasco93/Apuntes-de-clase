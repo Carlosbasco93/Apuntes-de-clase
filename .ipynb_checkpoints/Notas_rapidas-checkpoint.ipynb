{
 "cells": [
  {
   "cell_type": "code",
   "execution_count": null,
   "id": "2ea53ca4",
   "metadata": {},
   "outputs": [],
   "source": [
    "### Configuración soup ###\n",
    "import requests\n",
    "from bs4 import BeautifulSoup\n",
    "#help(BeautifulSoup)\n",
    "\"\"\"\n",
    " |  get(self, key, default=None)\n",
    " |      Returns the value of the 'key' attribute for the tag, or\n",
    " |      the value given for 'default' if it doesn't have that\n",
    " |      attribute.\n",
    " |\n",
    " |  get_attribute_list(self, key, default=None)\n",
    " |      The same as get(), but always returns a list.\n",
    " |      \n",
    " |      :param key: The attribute to look for.\n",
    " |      :param default: Use this value if the attribute is not present\n",
    " |          on this PageElement.\n",
    " |      :return: A list of values, probably containing only a single\n",
    " |          value.\n",
    "\"\"\"\n",
    "\n",
    "## Saber tu directorio actual\n",
    "import pathlib\n",
    "pathlib.Path().resolve()\n",
    "\n",
    "## Obtenemos los datos que queremos - Uso ##\n",
    "html = requests.get(url).content # html = requests.get(url, timeout = 2).content #También podemos decir que a los 2 segundos levante un error de timeout try except\n",
    "## También pueden saltar estos 2 errores:\n",
    "#TooManyRedirects: Si una petición excede el número de redirecciones máximo.\n",
    "#ConnectionError: Si existe algún problema de red (no hay internet, fallo de DNS, conexión rechazada, …).\n",
    "\n",
    "soup = BeautifulSoup(html, \"html.parser\")#attrs={key:value}, recursive=True para acceder a sub elementos, #limit=//[0-9]+)\n",
    "soup\n",
    "\n",
    "container = soup.find_all(class_='Box-row d-flex')\n",
    "container\n",
    "\n",
    "container=[f.text for f in container]\n",
    "container\n",
    "\n",
    "### Configuración scraping web ###\n",
    "import pandas as pd\n",
    "import time\n",
    "from selenium.webdriver.chrome.options import Options\n",
    "from webdriver_manager.chrome import ChromeDriverManager\n",
    "from selenium import webdriver\n",
    "from selenium.webdriver.chrome.service import Service\n",
    "from selenium.webdriver.common.keys import Keys\n",
    "from selenium.webdriver.common.by import By\n",
    "from selenium.webdriver.chrome.options import Options\n",
    "#%pip install fake-useragent\n",
    "from fake_useragent import UserAgent\n",
    "\n",
    "usuario=UserAgent().random\n",
    "\n",
    "opciones=Options()\n",
    "\n",
    "opciones.add_experimental_option('excludeSwitches', ['enable-automation'])\n",
    "opciones.add_experimental_option('useAutomationExtension', False)\n",
    "opciones.headless=False    # si True, no aperece la ventana (headless=no visible)\n",
    "opciones.add_argument('--start-maximized')         # comienza maximizado\n",
    "#opciones.add_argument('user-data-dir=selenium')    # mantiene las cookies\n",
    "#opciones.add_extension('driver_folder/adblock.crx')       # adblocker\n",
    "opciones.add_argument('--incognito')\n",
    "\n",
    "driver = \"../../chromedriver/chromedriver.exe\" #remember substitute this for your driver path\n",
    "driver = webdriver.Chrome(service=Service(ChromeDriverManager().install()), options = opciones) #Listo para iniciar\n",
    "\n",
    "###Obtenemos datos de la web que queremos - Uso\n",
    "url = 'URL base o deseada'\n",
    "driver.get(url)\n",
    "container = driver.find_elements(By.CLASS_NAME,'%%%') #En los %s rellenamos según lo que queramos extraer de la web\n",
    "container = [element.text for element in container]   #Para visualizar que traemos de la web\n",
    "\n",
    "##Ejemplo\n",
    "url = 'https://twitter.com/'\n",
    "try:\n",
    "    usuario = input(\"Introduce un usuario de Twitter: \").strip()\n",
    "    driver.get(url+usuario)\n",
    "    time.sleep(2)\n",
    "    container = driver.find_elements(By.CLASS_NAME,'css-901oao.css-1hf3ou5.r-14j79pv.r-37j5jr.r-n6v787.r-16dba41.r-1cwl3u0.r-bcqeeo.r-qvutc0')\n",
    "    container = [element.text for element in container][0]\n",
    "    print(container)\n",
    "except:\n",
    "    print('Algo salió mal')\n",
    "\n"
   ]
  },
  {
   "cell_type": "code",
   "execution_count": null,
   "id": "37025374",
   "metadata": {},
   "outputs": [],
   "source": [
    "#### PARALELIZACIÓN ####\n",
    "#%pip install joblib\n",
    "from joblib import Parallel, delayed\n",
    "lst=Parallel(n_jobs=6, verbose=True)(delayed(cuadrado)(e) for e in datos)"
   ]
  },
  {
   "cell_type": "code",
   "execution_count": null,
   "id": "7719eaff",
   "metadata": {},
   "outputs": [],
   "source": [
    "###Para mostrar barra de progreso de funciones###\n",
    "%pip install tqdm\n",
    "from tqdm.notebook import tqdm    # from tqdm import tqdm   # para .py"
   ]
  },
  {
   "cell_type": "code",
   "execution_count": null,
   "id": "6aeaf2b6",
   "metadata": {},
   "outputs": [],
   "source": [
    "###Para mostrar imágenes en el jupyter-notebook    \n",
    "from IPython.display import Image\n",
    "for image in container:\n",
    "    display(Image(url=image))"
   ]
  },
  {
   "cell_type": "code",
   "execution_count": null,
   "id": "ad443396",
   "metadata": {},
   "outputs": [],
   "source": [
    "#Funcion genérica asíncrona. Funcion tiene que ser estilo map, para aplicar a un solo elemento\n",
    "def asincrono(funcion):\n",
    "    \n",
    "    def eventos(*args, **kwargs):\n",
    "        return asyncio.get_event_loop().run_in_executor(None, funcion, *args, **kwargs)\n",
    "    \n",
    "    return eventos"
   ]
  },
  {
   "cell_type": "code",
   "execution_count": null,
   "id": "e32e3a48",
   "metadata": {},
   "outputs": [],
   "source": [
    "###Para agrupar una lista dada a una lista de listas agrupando los elementos en num_agrup número de subelementos\n",
    "data = [X,X,X,X,X] #Lista que quieres agrupar\n",
    "res = []\n",
    "aux = []\n",
    "num_agrup = 2 #Modificable - Nº de elementos que quieres por grupo\n",
    "for ind, i in enumerate(data): \n",
    "    aux.append(i)\n",
    "    if len(aux)==num_agrup:\n",
    "        res.append(aux)\n",
    "        aux = []\n",
    "    #elif len(data)-ind<num_agrup: #Apila el resto de elementos si no son suficientes para formar un grupo\n",
    "    #    res.append(i)\n",
    "res\n",
    "#res tendrá la forma res = [[X,X],[X,X],#X //Depende la última linea comentada o no] para num_agrup 2"
   ]
  },
  {
   "cell_type": "code",
   "execution_count": null,
   "id": "cefe3d97",
   "metadata": {},
   "outputs": [],
   "source": [
    "### ! delante del \"pip\" instala en el entorno externo ###\n",
    "### % delante del \"pip\" instala en el entorno virtual en el que trabajas ###\n",
    "####IMPORTANTE####\n",
    "#Sacar la función que pinta los nulos en los data frames de Kike y"
   ]
  },
  {
   "cell_type": "code",
   "execution_count": null,
   "id": "9ec4e25a",
   "metadata": {},
   "outputs": [],
   "source": [
    "#### Regex para usar en IF ####\n",
    "import re\n",
    "\n",
    "result = re.sub('abc',  '',    input)           # Delete pattern abc\n",
    "result = re.sub('abc',  'def', input)           # Replace pattern abc -> def\n",
    "result = re.sub(r'\\s+', ' ',   input)           # Eliminate duplicate whitespaces using wildcards\n",
    "result = re.sub('abc(def)ghi', r'\\1', input)    # Replace a string with a part of itself"
   ]
  }
 ],
 "metadata": {
  "kernelspec": {
   "display_name": "Python 3 (ipykernel)",
   "language": "python",
   "name": "python3"
  },
  "language_info": {
   "codemirror_mode": {
    "name": "ipython",
    "version": 3
   },
   "file_extension": ".py",
   "mimetype": "text/x-python",
   "name": "python",
   "nbconvert_exporter": "python",
   "pygments_lexer": "ipython3",
   "version": "3.9.12"
  }
 },
 "nbformat": 4,
 "nbformat_minor": 5
}
