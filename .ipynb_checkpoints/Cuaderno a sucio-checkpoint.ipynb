{
 "cells": [
  {
   "cell_type": "code",
   "execution_count": 1,
   "id": "d42b6464",
   "metadata": {},
   "outputs": [],
   "source": [
    "#------------------------------------------------------------------------------------------------------------\n",
    "#------------------------------------------PASOS PARA TRATAR DATA--------------------------------------------\n",
    "#------------------------------------------------------------------------------------------------------------\n",
    "#\n",
    "#Leemos el fichero según su tipo\n",
    "#\n",
    "#... Pendiente completar esto con el ejemplo de clase del 17/08 \n",
    "#\n",
    "#Leemos las columnas en busca de valores nulos y sumamos para saber cuantos valores nulos hay en cada columna\n",
    "#\n",
    "#Si hay una muestra muy alta de nulos vs el total de elementos de la fila, los eliminamos \n",
    "###Por ej. todos los que tienen más de 1e4 (10.000) elementos nulos con columnas con 13k elementos totales\n",
    "#\n",
    "#De las columnas que quedan con pocos elementos nulos, hay que buscar completar estas columnas\n",
    "###Para ello hay que entender que dato falta o por qué para poder sustituir esos elementos nulos por algo \n",
    "###que tenga sentido. Podemos usar iloc para mostrar los datos donde quedaron valores nulos.\n",
    "#\n",
    "#... Pendiente detección y gestión de outliers\n",
    "#... Pendiente incluir término de IQR y cortar por index en base a este valor"
   ]
  },
  {
   "cell_type": "code",
   "execution_count": null,
   "id": "a4ec3ae6",
   "metadata": {},
   "outputs": [],
   "source": [
    "#------------------------------------------------------------------------------------------------------------\n",
    "#---------------------------------------------------NOTAS----------------------------------------------------\n",
    "#------------------------------------------------------------------------------------------------------------\n",
    "#NaN es tipo float a pesar de ser \"NotANumber\" y en una columna donde el resto de valores son type \"O\" (Object) \n",
    "#nos interesa sustituir los \"NaN\" con la función:\n",
    "#  df.\"nombre_sin_comillas_de_columna\".fillna(\"string_de_sustituciñon\", inplace = True #Para sobreescribir)\n",
    "#------------------------------------------------------------------------------------------------------------\n",
    "#.at es otra forma de hacer una selección de un dataFrame\n",
    "#------------------------------------------------------------------------------------------------------------"
   ]
  }
 ],
 "metadata": {
  "kernelspec": {
   "display_name": "Python 3 (ipykernel)",
   "language": "python",
   "name": "python3"
  },
  "language_info": {
   "codemirror_mode": {
    "name": "ipython",
    "version": 3
   },
   "file_extension": ".py",
   "mimetype": "text/x-python",
   "name": "python",
   "nbconvert_exporter": "python",
   "pygments_lexer": "ipython3",
   "version": "3.9.12"
  }
 },
 "nbformat": 4,
 "nbformat_minor": 5
}
