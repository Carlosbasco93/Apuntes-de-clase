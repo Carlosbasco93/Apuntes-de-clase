{
 "cells": [
  {
   "cell_type": "code",
   "execution_count": 1,
   "id": "d42b6464",
   "metadata": {},
   "outputs": [
    {
     "name": "stdout",
     "output_type": "stream",
     "text": [
      "[2, 4, 6, 8, 10, 12]\n"
     ]
    }
   ],
   "source": [
    "def doble(x):\n",
    "  return x * 2\n",
    "  \n",
    "mi_lista = [1, 2, 3, 4, 5, 6]\n",
    "lista_nueva = list(map(doble, mi_lista))\n",
    "print(lista_nueva) # [2, 4, 6, 8, 10, 12]\n",
    "\n",
    "#Ejemplo con lambda\n",
    "\n",
    "lista_nueva_lambda = list(map(lambda x: x * 2, mi_lista))\n",
    "print(lista_nueva_lambda)  # [2, 4, 6, 8, 10, 12]"
   ]
  },
  {
   "cell_type": "code",
   "execution_count": null,
   "id": "bee13087",
   "metadata": {},
   "outputs": [],
   "source": []
  }
 ],
 "metadata": {
  "kernelspec": {
   "display_name": "Python 3 (ipykernel)",
   "language": "python",
   "name": "python3"
  },
  "language_info": {
   "codemirror_mode": {
    "name": "ipython",
    "version": 3
   },
   "file_extension": ".py",
   "mimetype": "text/x-python",
   "name": "python",
   "nbconvert_exporter": "python",
   "pygments_lexer": "ipython3",
   "version": "3.9.12"
  }
 },
 "nbformat": 4,
 "nbformat_minor": 5
}
