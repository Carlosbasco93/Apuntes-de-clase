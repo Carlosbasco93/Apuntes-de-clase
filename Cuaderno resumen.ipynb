{
 "cells": [
  {
   "cell_type": "code",
   "execution_count": 1,
   "id": "d42b6464",
   "metadata": {},
   "outputs": [
    {
     "name": "stdout",
     "output_type": "stream",
     "text": [
      "[2, 4, 6, 8, 10, 12]\n"
     ]
    }
   ],
   "source": [
    "def doble(x):\n",
    "  return x * 2\n",
    "  \n",
    "mi_lista = [1, 2, 3, 4, 5, 6]\n",
    "lista_nueva = list(map(doble, mi_lista))\n",
    "print(lista_nueva) # [2, 4, 6, 8, 10, 12]\n",
    "\n",
    "#Ejemplo con lambda\n",
    "\n",
    "lista_nueva_lambda = list(map(lambda x: x * 2, mi_lista))\n",
    "print(lista_nueva_lambda)  # [2, 4, 6, 8, 10, 12]"
   ]
  },
  {
   "cell_type": "code",
   "execution_count": 33,
   "id": "a461f908",
   "metadata": {},
   "outputs": [
    {
     "name": "stdout",
     "output_type": "stream",
     "text": [
      "Lista aplanada:  [1, 2, 3, 4, 5, 4, 4, 15, 16, 9, 9, 9, 12, 13]\n",
      "\n",
      "Pares:  [2, 4, 4, 4, 16, 12]\n",
      "\n",
      "Varias condiciones: \n",
      "[[1, 4, 27, 16], [125, 16, 16], [3375], [256], [729, 729, 729, 144, 2197]]\n",
      "\n",
      "Varias condiciones aplanado: \n",
      "[1, 4, 27, 16, 125, 16, 16, 3375, 256, 729, 729, 729, 144, 2197]\n",
      "\n",
      "Aún más condiciones: \n",
      "[1, 8, 9, 4, 25, 4, 4, 225, 4096, 81, 81, 81, 1728, 169]\n"
     ]
    }
   ],
   "source": [
    "#-----------------------------------Ejemplos de list comprehension--------------------------------------\n",
    "#-------------------------------------------------------------------------------------------------------\n",
    "\n",
    "#Ejemplo normal\n",
    "#print(list(numero for numero in range(201) if numero%2==0 and numero!=0)) \n",
    "\n",
    "#Ejemplo anidado\n",
    "listaEjemplo = [[1,2,3,4],[5,4,4],[15],[16],[9,9,9,12,13]] \n",
    "print(\"Lista aplanada: \",list(subElemento for elemento in listaEjemplo for subElemento in elemento))\n",
    "print()\n",
    "#Ejemplo anidado con if\n",
    "print(\"Pares: \", list(subElemento for elemento in listaEjemplo for subElemento in elemento if subElemento %2 == 0))\n",
    "print()\n",
    "#Ejemplo anidado para hacer cosas diferentes con el valor que trabajas\n",
    "print(\"Varias condiciones: \") #------Elevamos al cuadrado o al cubo cada elemento si son pares o impares----------------------\n",
    "#\n",
    "#          Valor que quiero     Condición de      Condición negativa       Bucle     interno           Bucle      externo\n",
    "#              apendear           apendear           de apendear\n",
    "#          <--------------><-------------------><-------------------><--------------------------><--------------------------->  \n",
    "print(list([subElemento**2 if subElemento%2 == 0 else subElemento**3 for subElemento in elemento]for elemento in listaEjemplo))\n",
    "print()\n",
    "print(\"Varias condiciones aplanado: \")\n",
    "#Ejemplo anterior aplanado o flatten\n",
    "#                 \"\"               \"\"                    \"\"               Bucle     externo           Bucle      interno\n",
    "#          <------------><--------------------><-------------------><--------------------------><--------------------------->  \n",
    "print(list(subElemento**2 if subElemento%2 == 0 else subElemento**3 for elemento in listaEjemplo for subElemento in elemento))\n",
    "\n",
    "print()\n",
    "print(\"Aún más condiciones: \")\n",
    "#                 \"\"               \"\"          Otro valor           Otra        Ultimo posible valor             Bucle                      Bucle\n",
    "#                                             para apendear       condición        para apendear                externo                    interno\n",
    "#         <--------------><---------------><---------------><-----------------><-------------------><--------------------------><---------------------------->\n",
    "print(list(subElemento**2 if subElemento%2 else subElemento if subElemento == 4 else subElemento**3 for elemento in listaEjemplo for subElemento in elemento))\n"
   ]
  },
  {
   "cell_type": "code",
   "execution_count": null,
   "id": "bee13087",
   "metadata": {},
   "outputs": [],
   "source": []
  }
 ],
 "metadata": {
  "kernelspec": {
   "display_name": "Python 3 (ipykernel)",
   "language": "python",
   "name": "python3"
  },
  "language_info": {
   "codemirror_mode": {
    "name": "ipython",
    "version": 3
   },
   "file_extension": ".py",
   "mimetype": "text/x-python",
   "name": "python",
   "nbconvert_exporter": "python",
   "pygments_lexer": "ipython3",
   "version": "3.9.12"
  }
 },
 "nbformat": 4,
 "nbformat_minor": 5
}
